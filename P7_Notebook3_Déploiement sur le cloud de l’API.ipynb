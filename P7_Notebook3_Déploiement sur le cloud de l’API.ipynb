{
 "cells": [
  {
   "cell_type": "code",
   "execution_count": null,
   "id": "abaccbcd-c154-4938-b650-41b5035d1be0",
   "metadata": {},
   "outputs": [],
   "source": []
  },
  {
   "cell_type": "code",
   "execution_count": null,
   "id": "c87cf62e-78d1-45e0-b287-7c366e692d6f",
   "metadata": {},
   "outputs": [],
   "source": []
  },
  {
   "cell_type": "markdown",
   "id": "8e283fbc-ade8-4f88-a213-2dd03b5e1a09",
   "metadata": {},
   "source": [
    "## Étape 1 : Préparer l'API en local\n",
    "Coder l’API : Créez une API en utilisant Flask (ou un autre framework) pour encapsuler votre modèle de prédiction. Assurez-vous que l'API renvoie un score de probabilité basé sur les données reçues.\n",
    "\n",
    "Exemple de structure de code pour un fichier app.py :"
   ]
  },
  {
   "cell_type": "code",
   "execution_count": 2,
   "id": "36ee3ab3-fd8f-4f7f-a429-7a4ded1757b9",
   "metadata": {},
   "outputs": [
    {
     "name": "stdout",
     "output_type": "stream",
     "text": [
      " * Serving Flask app '__main__'\n",
      " * Debug mode: off\n"
     ]
    },
    {
     "name": "stderr",
     "output_type": "stream",
     "text": [
      "WARNING: This is a development server. Do not use it in a production deployment. Use a production WSGI server instead.\n",
      " * Running on all addresses (0.0.0.0)\n",
      " * Running on http://127.0.0.1:5000\n",
      " * Running on http://192.168.1.95:5000\n",
      "Press CTRL+C to quit\n"
     ]
    }
   ],
   "source": [
    "from flask import Flask, request, jsonify\n",
    "import joblib\n",
    "\n",
    "app = Flask(__name__)\n",
    "\n",
    "# Charger le modèle\n",
    "model = joblib.load(\"lightgbm_model.pkl\")\n",
    "\n",
    "@app.route(\"/predict\", methods=[\"POST\"])\n",
    "def predict():\n",
    "    data = request.get_json(force=True)\n",
    "    prediction = model.predict([data['features']])\n",
    "    probability = model.predict_proba([data['features']])[0, 1]\n",
    "    return jsonify({\"prediction\": prediction[0], \"probability\": probability})\n",
    "\n",
    "if __name__ == \"__main__\":\n",
    "    app.run(host=\"0.0.0.0\", port=5000)\n"
   ]
  },
  {
   "cell_type": "code",
   "execution_count": 4,
   "id": "8a3f8639-d22e-4789-b64c-5158ceb58e13",
   "metadata": {},
   "outputs": [
    {
     "name": "stdout",
     "output_type": "stream",
     "text": [
      "Flask version: 2.2.5\n",
      "Joblib version: 1.2.0\n"
     ]
    }
   ],
   "source": [
    "import flask\n",
    "import joblib\n",
    "\n",
    "print(\"Flask version:\", flask.__version__)\n",
    "print(\"Joblib version:\", joblib.__version__)\n"
   ]
  },
  {
   "cell_type": "code",
   "execution_count": 6,
   "id": "f33d8ba0-9ef7-480d-a68f-c13a004fbaf4",
   "metadata": {},
   "outputs": [
    {
     "name": "stdout",
     "output_type": "stream",
     "text": [
      "Le fichier requirements.txt a été créé.\n"
     ]
    }
   ],
   "source": [
    "# Crée le fichier requirements.txt avec les versions de Flask et joblib\n",
    "with open(\"requirements.txt\", \"w\") as f:\n",
    "    f.write(f\"Flask=={flask.__version__}\\n\")\n",
    "    f.write(f\"joblib=={joblib.__version__}\\n\")\n",
    "\n",
    "print(\"Le fichier requirements.txt a été créé.\")"
   ]
  },
  {
   "cell_type": "code",
   "execution_count": 8,
   "id": "e157e85f-a118-4a8b-a5df-53dc76f1e891",
   "metadata": {},
   "outputs": [
    {
     "name": "stdout",
     "output_type": "stream",
     "text": [
      "3.11.7 | packaged by Anaconda, Inc. | (main, Dec 15 2023, 18:05:47) [MSC v.1916 64 bit (AMD64)]\n"
     ]
    }
   ],
   "source": [
    "import sys\n",
    "print(sys.version)"
   ]
  },
  {
   "cell_type": "code",
   "execution_count": null,
   "id": "300154ff-f5ab-4d7e-96d7-70c43de00169",
   "metadata": {},
   "outputs": [],
   "source": []
  },
  {
   "cell_type": "code",
   "execution_count": null,
   "id": "66607508-6c8f-4da6-aefb-ba429bf7ceb0",
   "metadata": {},
   "outputs": [],
   "source": []
  },
  {
   "cell_type": "code",
   "execution_count": null,
   "id": "99f060b2-801b-4136-8142-6a52bfd62d9f",
   "metadata": {},
   "outputs": [],
   "source": []
  },
  {
   "cell_type": "code",
   "execution_count": null,
   "id": "ebbef78b-c06c-4b4b-9bdf-0e4e4c210cbc",
   "metadata": {},
   "outputs": [],
   "source": []
  },
  {
   "cell_type": "code",
   "execution_count": null,
   "id": "e121dcee-2ce4-4a38-8547-8ab4b48978d6",
   "metadata": {},
   "outputs": [],
   "source": []
  },
  {
   "cell_type": "code",
   "execution_count": null,
   "id": "5850fa66-c599-4f0b-bb7a-d4f17705f9b9",
   "metadata": {},
   "outputs": [],
   "source": []
  },
  {
   "cell_type": "code",
   "execution_count": null,
   "id": "9264b93f-02d5-43f4-abd3-e49a38baecb4",
   "metadata": {},
   "outputs": [],
   "source": []
  },
  {
   "cell_type": "code",
   "execution_count": null,
   "id": "efa98ee7-a0c1-43ad-884e-f3339b0a3621",
   "metadata": {},
   "outputs": [],
   "source": []
  },
  {
   "cell_type": "code",
   "execution_count": 3,
   "id": "53c5fea5-d86b-4b6e-8018-daf131a5876d",
   "metadata": {},
   "outputs": [],
   "source": [
    "import mlflow"
   ]
  },
  {
   "cell_type": "code",
   "execution_count": 1,
   "id": "d98fdd83-71ff-4d0e-b552-114c55774a64",
   "metadata": {},
   "outputs": [],
   "source": [
    "from flask import Flask, request, jsonify\n",
    "import mlflow.pyfunc"
   ]
  },
  {
   "cell_type": "code",
   "execution_count": 5,
   "id": "6f75ffb0-d320-436c-b9c2-d309cdba95b9",
   "metadata": {},
   "outputs": [
    {
     "name": "stdout",
     "output_type": "stream",
     "text": [
      " Le volume dans le lecteur C s'appelle OS\n",
      " Le num‚ro de s‚rie du volume est 16B0-36CC\n",
      "\n",
      " R‚pertoire de C:\\Users\\SOUKA\\anaconda3\\envs\\projet7_IMS\n",
      "\n",
      "28/10/2024  12:11    <DIR>          .\n",
      "28/10/2024  12:11    <DIR>          ..\n",
      "28/10/2024  12:08    <DIR>          .ipynb_checkpoints\n",
      "17/09/2024  11:08                 0 .nonadmin\n",
      "01/04/2024  11:32            22ÿ056 api-ms-win-core-console-l1-1-0.dll\n",
      "01/04/2024  11:32            21ÿ960 api-ms-win-core-console-l1-2-0.dll\n",
      "01/04/2024  11:32            22ÿ056 api-ms-win-core-datetime-l1-1-0.dll\n",
      "01/04/2024  11:32            21ÿ960 api-ms-win-core-debug-l1-1-0.dll\n",
      "01/04/2024  11:32            22ÿ056 api-ms-win-core-errorhandling-l1-1-0.dll\n",
      "01/04/2024  11:32            22ÿ056 api-ms-win-core-fibers-l1-1-0.dll\n",
      "01/04/2024  11:32            21ÿ960 api-ms-win-core-fibers-l1-1-1.dll\n",
      "01/04/2024  11:32            26ÿ056 api-ms-win-core-file-l1-1-0.dll\n",
      "01/04/2024  11:32            22ÿ072 api-ms-win-core-file-l1-2-0.dll\n",
      "01/04/2024  11:32            22ÿ056 api-ms-win-core-file-l2-1-0.dll\n",
      "01/04/2024  11:32            22ÿ072 api-ms-win-core-handle-l1-1-0.dll\n",
      "01/04/2024  11:32            22ÿ072 api-ms-win-core-heap-l1-1-0.dll\n",
      "01/04/2024  11:32            22ÿ072 api-ms-win-core-interlocked-l1-1-0.dll\n",
      "01/04/2024  11:32            21ÿ960 api-ms-win-core-kernel32-legacy-l1-1-1.dll\n",
      "01/04/2024  11:32            21ÿ960 api-ms-win-core-libraryloader-l1-1-0.dll\n",
      "01/04/2024  11:32            22ÿ056 api-ms-win-core-localization-l1-2-0.dll\n",
      "01/04/2024  11:32            22ÿ056 api-ms-win-core-memory-l1-1-0.dll\n",
      "01/04/2024  11:32            22ÿ056 api-ms-win-core-namedpipe-l1-1-0.dll\n",
      "01/04/2024  11:32            22ÿ056 api-ms-win-core-processenvironment-l1-1-0.dll\n",
      "01/04/2024  11:32            22ÿ056 api-ms-win-core-processthreads-l1-1-0.dll\n",
      "01/04/2024  11:32            22ÿ072 api-ms-win-core-processthreads-l1-1-1.dll\n",
      "01/04/2024  11:32            21ÿ944 api-ms-win-core-profile-l1-1-0.dll\n",
      "01/04/2024  11:32            21ÿ944 api-ms-win-core-rtlsupport-l1-1-0.dll\n",
      "01/04/2024  11:32            22ÿ072 api-ms-win-core-string-l1-1-0.dll\n",
      "01/04/2024  11:32            21ÿ944 api-ms-win-core-synch-l1-1-0.dll\n",
      "01/04/2024  11:32            22ÿ072 api-ms-win-core-synch-l1-2-0.dll\n",
      "01/04/2024  11:32            21ÿ960 api-ms-win-core-sysinfo-l1-1-0.dll\n",
      "01/04/2024  11:32            21ÿ960 api-ms-win-core-sysinfo-l1-2-0.dll\n",
      "01/04/2024  11:32            21ÿ944 api-ms-win-core-timezone-l1-1-0.dll\n",
      "01/04/2024  11:32            22ÿ056 api-ms-win-core-util-l1-1-0.dll\n",
      "01/04/2024  11:32            22ÿ072 api-ms-win-crt-conio-l1-1-0.dll\n",
      "01/04/2024  11:32            26ÿ040 api-ms-win-crt-convert-l1-1-0.dll\n",
      "01/04/2024  11:32            21ÿ944 api-ms-win-crt-environment-l1-1-0.dll\n",
      "01/04/2024  11:32            21ÿ944 api-ms-win-crt-filesystem-l1-1-0.dll\n",
      "01/04/2024  11:32            22ÿ056 api-ms-win-crt-heap-l1-1-0.dll\n",
      "01/04/2024  11:32            22ÿ072 api-ms-win-crt-locale-l1-1-0.dll\n",
      "01/04/2024  11:32            30ÿ248 api-ms-win-crt-math-l1-1-0.dll\n",
      "01/04/2024  11:32            30ÿ264 api-ms-win-crt-multibyte-l1-1-0.dll\n",
      "01/04/2024  11:32            75ÿ320 api-ms-win-crt-private-l1-1-0.dll\n",
      "01/04/2024  11:32            21ÿ944 api-ms-win-crt-process-l1-1-0.dll\n",
      "01/04/2024  11:32            26ÿ168 api-ms-win-crt-runtime-l1-1-0.dll\n",
      "01/04/2024  11:32            26ÿ168 api-ms-win-crt-stdio-l1-1-0.dll\n",
      "01/04/2024  11:32            26ÿ168 api-ms-win-crt-string-l1-1-0.dll\n",
      "01/04/2024  11:32            21ÿ944 api-ms-win-crt-time-l1-1-0.dll\n",
      "01/04/2024  11:32            21ÿ944 api-ms-win-crt-utility-l1-1-0.dll\n",
      "21/10/2024  10:29             3ÿ071 app.py.ipynb\n",
      "07/10/2024  10:52        26ÿ567ÿ651 application_test.csv\n",
      "30/09/2024  13:57        25ÿ384ÿ754 application_test_converted.csv\n",
      "07/10/2024  10:52       166ÿ133ÿ370 application_train.csv\n",
      "30/09/2024  13:57       159ÿ130ÿ495 application_train_converted.csv\n",
      "07/10/2024  10:52       170ÿ016ÿ717 bureau.csv\n",
      "07/10/2024  10:53       375ÿ592ÿ889 bureau_balance.csv\n",
      "30/09/2024  13:58       402ÿ892ÿ815 bureau_balance_converted.csv\n",
      "30/09/2024  13:58       171ÿ659ÿ855 bureau_converted.csv\n",
      "30/09/2024  13:59            37ÿ397 columns_description_converted.csv\n",
      "16/10/2024  11:15             8ÿ275 commandes n‚cessaires.ipynb\n",
      "07/09/2024  21:36           322ÿ560 concrt140.dll\n",
      "17/09/2024  11:08    <DIR>          conda-meta\n",
      "07/10/2024  10:53       424ÿ582ÿ605 credit_card_balance.csv\n",
      "30/09/2024  13:59       425ÿ894ÿ540 credit_card_balance_converted.csv\n",
      "09/10/2024  09:42        37ÿ551ÿ451 df_analyse.csv\n",
      "09/10/2024  14:37         9ÿ359ÿ631 df_final.csv\n",
      "10/10/2024  10:50       216ÿ138ÿ097 df_top_features.csv\n",
      "08/10/2024  09:40     1ÿ325ÿ908ÿ273 df_total.csv\n",
      "17/09/2024  10:09    <DIR>          DLLs\n",
      "18/10/2024  14:07         4ÿ036ÿ538 dummy_classifier_model.pkl\n",
      "17/09/2024  10:26    <DIR>          etc\n",
      "07/10/2024  10:52            37ÿ383 HomeCredit_columns_description.csv\n",
      "17/09/2024  11:07    <DIR>          include\n",
      "07/10/2024  10:53       723ÿ118ÿ349 installments_payments.csv\n",
      "30/09/2024  14:00       736ÿ384ÿ661 installments_payments_converted.csv\n",
      "17/09/2024  10:09    <DIR>          Lib\n",
      "17/09/2024  11:07    <DIR>          Library\n",
      "17/09/2024  10:09    <DIR>          libs\n",
      "02/04/2024  09:25            13ÿ936 LICENSE_PYTHON.txt\n",
      "18/10/2024  14:07         4ÿ222ÿ919 lightgbm_model.pkl\n",
      "18/10/2024  14:00         1ÿ269ÿ704 lime_explanation.html\n",
      "18/10/2024  14:00         1ÿ269ÿ712 lime_explanation.png\n",
      "01/10/2024  09:45         1ÿ357ÿ878 log_reg_baseline.csv\n",
      "18/10/2024  14:07         4ÿ040ÿ902 logistic_regression_model.pkl\n",
      "17/09/2024  10:26    <DIR>          Menu\n",
      "17/10/2024  14:32            94ÿ226 MLOps_API.ipynb\n",
      "17/09/2024  11:10    <DIR>          mlruns\n",
      "07/09/2024  21:36           575ÿ056 msvcp140.dll\n",
      "07/09/2024  21:36            35ÿ808 msvcp140_1.dll\n",
      "07/09/2024  21:36           268ÿ880 msvcp140_2.dll\n",
      "07/09/2024  21:36            50ÿ664 msvcp140_atomic_wait.dll\n",
      "07/09/2024  21:36            31ÿ744 msvcp140_codecvt_ids.dll\n",
      "18/10/2024  13:58                68 other_file.txt\n",
      "28/10/2024  11:37             5ÿ292 P7_ Notebook4_Interface de test de l'API - Simulation scoring client.ipynb\n",
      "07/10/2024  13:08         1ÿ815ÿ308 P7_AED_FeatureEngineering-Copy1.ipynb\n",
      "08/10/2024  09:15         2ÿ044ÿ850 P7_AED_FeatureEngineering-Copy2.ipynb\n",
      "10/10/2024  10:00         4ÿ458ÿ401 P7_AED_FeatureEngineering-Copy3.ipynb\n",
      "10/10/2024  10:47         5ÿ595ÿ500 P7_AED_FeatureEngineering-Copy4.ipynb\n",
      "15/10/2024  10:20           326ÿ981 P7_Mod‚lisation_MLFLOW.ipynb\n",
      "11/10/2024  09:48           116ÿ599 P7_Mod‚lisation_MLFLOW-Copy1.ipynb\n",
      "18/10/2024  08:48           397ÿ303 P7_Mod‚lisation_MLFLOW-Copy10.ipynb\n",
      "15/10/2024  10:52         3ÿ581ÿ128 P7_Mod‚lisation_MLFLOW-Copy11.ipynb\n",
      "15/10/2024  15:34         3ÿ552ÿ645 P7_Mod‚lisation_MLFLOW-Copy12.ipynb\n",
      "16/10/2024  10:11         3ÿ550ÿ429 P7_Mod‚lisation_MLFLOW-Copy13.ipynb\n",
      "18/10/2024  14:25         3ÿ484ÿ595 P7_Mod‚lisation_MLFLOW-Copy15.ipynb\n",
      "13/10/2024  14:41           470ÿ343 P7_Mod‚lisation_MLFLOW-Copy2.ipynb\n",
      "13/10/2024  14:47           332ÿ171 P7_Mod‚lisation_MLFLOW-Copy3.ipynb\n",
      "14/10/2024  09:24           323ÿ210 P7_Mod‚lisation_MLFLOW-Copy4.ipynb\n",
      "14/10/2024  10:21           396ÿ336 P7_Mod‚lisation_MLFLOW-Copy5.ipynb\n",
      "14/10/2024  14:03           516ÿ993 P7_Mod‚lisation_MLFLOW-Copy6.ipynb\n",
      "14/10/2024  14:57           540ÿ713 P7_Mod‚lisation_MLFLOW-Copy7.ipynb\n",
      "14/10/2024  18:36           164ÿ299 P7_Mod‚lisation_MLFLOW-Copy8.ipynb\n",
      "17/10/2024  09:33         3ÿ482ÿ659 P7_Mod‚lisation_MLFLOW-Copy9.ipynb\n",
      "04/10/2024  08:43         2ÿ326ÿ082 P7_notebook_1_mod‚lisation.ipynb\n",
      "10/10/2024  10:51         3ÿ554ÿ245 P7_Notebook1_AED_FeatureEngineering.ipynb\n",
      "04/10/2024  15:24           427ÿ075 P7_Notebook1_Cleaning and data engineering.ipynb\n",
      "04/10/2024  14:59           426ÿ988 P7_Notebook1_Cleaning and data engineering-Copy1.ipynb\n",
      "08/10/2024  10:05           114ÿ111 P7_Notebook1_Elaborez_modŠle_scoring.ipynb\n",
      "28/10/2024  11:33         3ÿ484ÿ834 P7_Notebook2_Mod‚lisation_MLFLOW-Copy14.ipynb\n",
      "28/10/2024  12:11            15ÿ132 P7_Notebook3_D‚ploiement sur le cloud de l'API.ipynb\n",
      "28/10/2024  11:45            21ÿ876 P7_Notebook5_ Analyse du data drift.ipynb\n",
      "21/10/2024  14:50           162ÿ870 P7_Test_API.ipynb\n",
      "07/10/2024  10:53       392ÿ703ÿ158 POS_CASH_balance.csv\n",
      "30/09/2024  14:00       402ÿ704ÿ517 pos_cash_balance_converted.csv\n",
      "18/10/2024  14:07           307ÿ538 predictions_vs_true_labels.csv\n",
      "07/10/2024  10:53       404ÿ973ÿ293 previous_application.csv\n",
      "30/09/2024  14:01       403ÿ057ÿ867 previous_application_converted.csv\n",
      "17/09/2024  10:26               106 pylupdate5.bat\n",
      "17/09/2024  10:26               102 pyrcc5.bat\n",
      "19/04/2024  17:49           104ÿ216 python.exe\n",
      "19/04/2024  17:42           430ÿ080 python.pdb\n",
      "19/04/2024  17:48            67ÿ352 python3.dll\n",
      "19/04/2024  17:48         6ÿ015ÿ248 python311.dll\n",
      "19/04/2024  17:43        14ÿ200ÿ832 python311.pdb\n",
      "19/04/2024  17:49           102ÿ672 pythonw.exe\n",
      "19/04/2024  17:42           438ÿ272 pythonw.pdb\n",
      "17/09/2024  10:26               101 pyuic5.bat\n",
      "01/10/2024  09:52           628ÿ528 random_forest_baseline.csv\n",
      "01/10/2024  10:40           628ÿ759 random_forest_baseline_domain.csv\n",
      "01/10/2024  10:34           628ÿ854 random_forest_baseline_engineered.csv\n",
      "18/10/2024  14:07        71ÿ630ÿ379 random_forest_model.pkl\n",
      "07/10/2024  10:52           536ÿ202 sample_submission.csv\n",
      "30/09/2024  14:01           584ÿ947 sample_submission_converted.csv\n",
      "17/09/2024  11:08    <DIR>          Scripts\n",
      "18/10/2024  14:07           458ÿ077 shap_explainer.pkl\n",
      "18/10/2024  14:07             4ÿ671 shap_feature_importance.csv\n",
      "18/10/2024  13:58           313ÿ514 shap_force_plot.png\n",
      "18/10/2024  14:01           158ÿ224 shap_summary_plot.png\n",
      "18/10/2024  14:07        49ÿ693ÿ841 shap_values.pkl\n",
      "17/09/2024  10:26    <DIR>          share\n",
      "17/09/2024  10:09    <DIR>          Tools\n",
      "01/04/2024  11:32         1ÿ357ÿ256 ucrtbase.dll\n",
      "07/09/2024  21:36           351ÿ824 vccorlib140.dll\n",
      "07/09/2024  21:36           192ÿ104 vcomp140.dll\n",
      "07/09/2024  21:36           119ÿ888 vcruntime140.dll\n",
      "07/09/2024  21:36            49ÿ640 vcruntime140_1.dll\n",
      "07/09/2024  21:36            38ÿ504 vcruntime140_threads.dll\n",
      "30/04/2024  23:07            99ÿ608 zlib.dll\n",
      "             143 fichier(s)    7ÿ213ÿ342ÿ984 octets\n",
      "              15 R‚p(s)  205ÿ197ÿ504ÿ512 octets libres\n"
     ]
    }
   ],
   "source": [
    "ls"
   ]
  },
  {
   "cell_type": "code",
   "execution_count": 3,
   "id": "8686e438-0ca4-47f4-ba2e-af5d2160e666",
   "metadata": {},
   "outputs": [
    {
     "ename": "MlflowException",
     "evalue": "Run '9eb3cf7c1d44497d82b156218cee350c' not found",
     "output_type": "error",
     "traceback": [
      "\u001b[1;31m---------------------------------------------------------------------------\u001b[0m",
      "\u001b[1;31mMlflowException\u001b[0m                           Traceback (most recent call last)",
      "Cell \u001b[1;32mIn[3], line 3\u001b[0m\n\u001b[0;32m      1\u001b[0m \u001b[38;5;66;03m# Charger le modèle\u001b[39;00m\n\u001b[0;32m      2\u001b[0m model_uri \u001b[38;5;241m=\u001b[39m \u001b[38;5;124m'\u001b[39m\u001b[38;5;124mruns:/9eb3cf7c1d44497d82b156218cee350c/model\u001b[39m\u001b[38;5;124m'\u001b[39m  \u001b[38;5;66;03m# Ajuster avec l'URI du modèle\u001b[39;00m\n\u001b[1;32m----> 3\u001b[0m model \u001b[38;5;241m=\u001b[39m mlflow\u001b[38;5;241m.\u001b[39mpyfunc\u001b[38;5;241m.\u001b[39mload_model(model_uri)\n\u001b[0;32m      5\u001b[0m app \u001b[38;5;241m=\u001b[39m Flask(\u001b[38;5;18m__name__\u001b[39m)\n\u001b[0;32m      7\u001b[0m \u001b[38;5;129m@app\u001b[39m\u001b[38;5;241m.\u001b[39mroute(\u001b[38;5;124m'\u001b[39m\u001b[38;5;124m/predict\u001b[39m\u001b[38;5;124m'\u001b[39m, methods\u001b[38;5;241m=\u001b[39m[\u001b[38;5;124m'\u001b[39m\u001b[38;5;124mPOST\u001b[39m\u001b[38;5;124m'\u001b[39m])\n\u001b[0;32m      8\u001b[0m \u001b[38;5;28;01mdef\u001b[39;00m \u001b[38;5;21mpredict\u001b[39m():\n",
      "File \u001b[1;32m~\\anaconda3\\Lib\\site-packages\\mlflow\\tracing\\provider.py:268\u001b[0m, in \u001b[0;36mtrace_disabled.<locals>.wrapper\u001b[1;34m(*args, **kwargs)\u001b[0m\n\u001b[0;32m    266\u001b[0m disable()\n\u001b[0;32m    267\u001b[0m \u001b[38;5;28;01mtry\u001b[39;00m:\n\u001b[1;32m--> 268\u001b[0m     is_func_called, result \u001b[38;5;241m=\u001b[39m \u001b[38;5;28;01mTrue\u001b[39;00m, f(\u001b[38;5;241m*\u001b[39margs, \u001b[38;5;241m*\u001b[39m\u001b[38;5;241m*\u001b[39mkwargs)\n\u001b[0;32m    269\u001b[0m \u001b[38;5;28;01mfinally\u001b[39;00m:\n\u001b[0;32m    270\u001b[0m     enable()\n",
      "File \u001b[1;32m~\\anaconda3\\Lib\\site-packages\\mlflow\\pyfunc\\__init__.py:1017\u001b[0m, in \u001b[0;36mload_model\u001b[1;34m(model_uri, suppress_warnings, dst_path, model_config)\u001b[0m\n\u001b[0;32m   1013\u001b[0m         entity_list\u001b[38;5;241m.\u001b[39mappend(Entity(job\u001b[38;5;241m=\u001b[39mjob_entity))\n\u001b[0;32m   1015\u001b[0m     lineage_header_info \u001b[38;5;241m=\u001b[39m LineageHeaderInfo(entities\u001b[38;5;241m=\u001b[39mentity_list) \u001b[38;5;28;01mif\u001b[39;00m entity_list \u001b[38;5;28;01melse\u001b[39;00m \u001b[38;5;28;01mNone\u001b[39;00m\n\u001b[1;32m-> 1017\u001b[0m local_path \u001b[38;5;241m=\u001b[39m _download_artifact_from_uri(\n\u001b[0;32m   1018\u001b[0m     artifact_uri\u001b[38;5;241m=\u001b[39mmodel_uri, output_path\u001b[38;5;241m=\u001b[39mdst_path, lineage_header_info\u001b[38;5;241m=\u001b[39mlineage_header_info\n\u001b[0;32m   1019\u001b[0m )\n\u001b[0;32m   1021\u001b[0m \u001b[38;5;28;01mif\u001b[39;00m \u001b[38;5;129;01mnot\u001b[39;00m suppress_warnings:\n\u001b[0;32m   1022\u001b[0m     model_requirements \u001b[38;5;241m=\u001b[39m _get_pip_requirements_from_model_path(local_path)\n",
      "File \u001b[1;32m~\\anaconda3\\Lib\\site-packages\\mlflow\\tracking\\artifact_utils.py:108\u001b[0m, in \u001b[0;36m_download_artifact_from_uri\u001b[1;34m(artifact_uri, output_path, lineage_header_info)\u001b[0m\n\u001b[0;32m    100\u001b[0m \u001b[38;5;250m\u001b[39m\u001b[38;5;124;03m\"\"\"\u001b[39;00m\n\u001b[0;32m    101\u001b[0m \u001b[38;5;124;03mArgs:\u001b[39;00m\n\u001b[0;32m    102\u001b[0m \u001b[38;5;124;03m    artifact_uri: The *absolute* URI of the artifact to download.\u001b[39;00m\n\u001b[1;32m   (...)\u001b[0m\n\u001b[0;32m    105\u001b[0m \u001b[38;5;124;03m    lineage_header_info: The model lineage header info to be consumed by lineage services.\u001b[39;00m\n\u001b[0;32m    106\u001b[0m \u001b[38;5;124;03m\"\"\"\u001b[39;00m\n\u001b[0;32m    107\u001b[0m root_uri, artifact_path \u001b[38;5;241m=\u001b[39m _get_root_uri_and_artifact_path(artifact_uri)\n\u001b[1;32m--> 108\u001b[0m repo \u001b[38;5;241m=\u001b[39m get_artifact_repository(artifact_uri\u001b[38;5;241m=\u001b[39mroot_uri)\n\u001b[0;32m    110\u001b[0m \u001b[38;5;28;01mif\u001b[39;00m \u001b[38;5;28misinstance\u001b[39m(repo, ModelsArtifactRepository):\n\u001b[0;32m    111\u001b[0m     \u001b[38;5;28;01mreturn\u001b[39;00m repo\u001b[38;5;241m.\u001b[39mdownload_artifacts(\n\u001b[0;32m    112\u001b[0m         artifact_path\u001b[38;5;241m=\u001b[39martifact_path,\n\u001b[0;32m    113\u001b[0m         dst_path\u001b[38;5;241m=\u001b[39moutput_path,\n\u001b[0;32m    114\u001b[0m         lineage_header_info\u001b[38;5;241m=\u001b[39mlineage_header_info,\n\u001b[0;32m    115\u001b[0m     )\n",
      "File \u001b[1;32m~\\anaconda3\\Lib\\site-packages\\mlflow\\store\\artifact\\artifact_repository_registry.py:132\u001b[0m, in \u001b[0;36mget_artifact_repository\u001b[1;34m(artifact_uri)\u001b[0m\n\u001b[0;32m    119\u001b[0m \u001b[38;5;28;01mdef\u001b[39;00m \u001b[38;5;21mget_artifact_repository\u001b[39m(artifact_uri: \u001b[38;5;28mstr\u001b[39m) \u001b[38;5;241m-\u001b[39m\u001b[38;5;241m>\u001b[39m ArtifactRepository:\n\u001b[0;32m    120\u001b[0m \u001b[38;5;250m    \u001b[39m\u001b[38;5;124;03m\"\"\"\u001b[39;00m\n\u001b[0;32m    121\u001b[0m \u001b[38;5;124;03m    Get an artifact repository from the registry based on the scheme of artifact_uri\u001b[39;00m\n\u001b[0;32m    122\u001b[0m \n\u001b[1;32m   (...)\u001b[0m\n\u001b[0;32m    130\u001b[0m \u001b[38;5;124;03m        requirements.\u001b[39;00m\n\u001b[0;32m    131\u001b[0m \u001b[38;5;124;03m    \"\"\"\u001b[39;00m\n\u001b[1;32m--> 132\u001b[0m     \u001b[38;5;28;01mreturn\u001b[39;00m _artifact_repository_registry\u001b[38;5;241m.\u001b[39mget_artifact_repository(artifact_uri)\n",
      "File \u001b[1;32m~\\anaconda3\\Lib\\site-packages\\mlflow\\store\\artifact\\artifact_repository_registry.py:77\u001b[0m, in \u001b[0;36mArtifactRepositoryRegistry.get_artifact_repository\u001b[1;34m(self, artifact_uri)\u001b[0m\n\u001b[0;32m     72\u001b[0m \u001b[38;5;28;01mif\u001b[39;00m repository \u001b[38;5;129;01mis\u001b[39;00m \u001b[38;5;28;01mNone\u001b[39;00m:\n\u001b[0;32m     73\u001b[0m     \u001b[38;5;28;01mraise\u001b[39;00m MlflowException(\n\u001b[0;32m     74\u001b[0m         \u001b[38;5;124mf\u001b[39m\u001b[38;5;124m\"\u001b[39m\u001b[38;5;124mCould not find a registered artifact repository for: \u001b[39m\u001b[38;5;132;01m{\u001b[39;00martifact_uri\u001b[38;5;132;01m}\u001b[39;00m\u001b[38;5;124m. \u001b[39m\u001b[38;5;124m\"\u001b[39m\n\u001b[0;32m     75\u001b[0m         \u001b[38;5;124mf\u001b[39m\u001b[38;5;124m\"\u001b[39m\u001b[38;5;124mCurrently registered schemes are: \u001b[39m\u001b[38;5;132;01m{\u001b[39;00m\u001b[38;5;28mlist\u001b[39m(\u001b[38;5;28mself\u001b[39m\u001b[38;5;241m.\u001b[39m_registry\u001b[38;5;241m.\u001b[39mkeys())\u001b[38;5;132;01m}\u001b[39;00m\u001b[38;5;124m\"\u001b[39m\n\u001b[0;32m     76\u001b[0m     )\n\u001b[1;32m---> 77\u001b[0m \u001b[38;5;28;01mreturn\u001b[39;00m repository(artifact_uri)\n",
      "File \u001b[1;32m~\\anaconda3\\Lib\\site-packages\\mlflow\\store\\artifact\\runs_artifact_repo.py:26\u001b[0m, in \u001b[0;36mRunsArtifactRepository.__init__\u001b[1;34m(self, artifact_uri)\u001b[0m\n\u001b[0;32m     23\u001b[0m \u001b[38;5;28;01mfrom\u001b[39;00m \u001b[38;5;21;01mmlflow\u001b[39;00m\u001b[38;5;21;01m.\u001b[39;00m\u001b[38;5;21;01mstore\u001b[39;00m\u001b[38;5;21;01m.\u001b[39;00m\u001b[38;5;21;01martifact\u001b[39;00m\u001b[38;5;21;01m.\u001b[39;00m\u001b[38;5;21;01martifact_repository_registry\u001b[39;00m \u001b[38;5;28;01mimport\u001b[39;00m get_artifact_repository\n\u001b[0;32m     25\u001b[0m \u001b[38;5;28msuper\u001b[39m()\u001b[38;5;241m.\u001b[39m\u001b[38;5;21m__init__\u001b[39m(artifact_uri)\n\u001b[1;32m---> 26\u001b[0m uri \u001b[38;5;241m=\u001b[39m RunsArtifactRepository\u001b[38;5;241m.\u001b[39mget_underlying_uri(artifact_uri)\n\u001b[0;32m     27\u001b[0m \u001b[38;5;28mself\u001b[39m\u001b[38;5;241m.\u001b[39mrepo \u001b[38;5;241m=\u001b[39m get_artifact_repository(uri)\n",
      "File \u001b[1;32m~\\anaconda3\\Lib\\site-packages\\mlflow\\store\\artifact\\runs_artifact_repo.py:39\u001b[0m, in \u001b[0;36mRunsArtifactRepository.get_underlying_uri\u001b[1;34m(runs_uri)\u001b[0m\n\u001b[0;32m     37\u001b[0m (run_id, artifact_path) \u001b[38;5;241m=\u001b[39m RunsArtifactRepository\u001b[38;5;241m.\u001b[39mparse_runs_uri(runs_uri)\n\u001b[0;32m     38\u001b[0m tracking_uri \u001b[38;5;241m=\u001b[39m get_databricks_profile_uri_from_artifact_uri(runs_uri)\n\u001b[1;32m---> 39\u001b[0m uri \u001b[38;5;241m=\u001b[39m get_artifact_uri(run_id, artifact_path, tracking_uri)\n\u001b[0;32m     40\u001b[0m \u001b[38;5;28;01massert\u001b[39;00m \u001b[38;5;129;01mnot\u001b[39;00m RunsArtifactRepository\u001b[38;5;241m.\u001b[39mis_runs_uri(uri)  \u001b[38;5;66;03m# avoid an infinite loop\u001b[39;00m\n\u001b[0;32m     41\u001b[0m \u001b[38;5;28;01mreturn\u001b[39;00m add_databricks_profile_info_to_artifact_uri(uri, tracking_uri)\n",
      "File \u001b[1;32m~\\anaconda3\\Lib\\site-packages\\mlflow\\tracking\\artifact_utils.py:52\u001b[0m, in \u001b[0;36mget_artifact_uri\u001b[1;34m(run_id, artifact_path, tracking_uri)\u001b[0m\n\u001b[0;32m     46\u001b[0m     \u001b[38;5;28;01mraise\u001b[39;00m MlflowException(\n\u001b[0;32m     47\u001b[0m         message\u001b[38;5;241m=\u001b[39m\u001b[38;5;124m\"\u001b[39m\u001b[38;5;124mA run_id must be specified in order to obtain an artifact uri!\u001b[39m\u001b[38;5;124m\"\u001b[39m,\n\u001b[0;32m     48\u001b[0m         error_code\u001b[38;5;241m=\u001b[39mINVALID_PARAMETER_VALUE,\n\u001b[0;32m     49\u001b[0m     )\n\u001b[0;32m     51\u001b[0m store \u001b[38;5;241m=\u001b[39m _get_store(tracking_uri)\n\u001b[1;32m---> 52\u001b[0m run \u001b[38;5;241m=\u001b[39m store\u001b[38;5;241m.\u001b[39mget_run(run_id)\n\u001b[0;32m     53\u001b[0m \u001b[38;5;66;03m# Maybe move this method to RunsArtifactRepository so the circular dependency is clearer.\u001b[39;00m\n\u001b[0;32m     54\u001b[0m \u001b[38;5;28;01massert\u001b[39;00m urllib\u001b[38;5;241m.\u001b[39mparse\u001b[38;5;241m.\u001b[39murlparse(run\u001b[38;5;241m.\u001b[39minfo\u001b[38;5;241m.\u001b[39martifact_uri)\u001b[38;5;241m.\u001b[39mscheme \u001b[38;5;241m!=\u001b[39m \u001b[38;5;124m\"\u001b[39m\u001b[38;5;124mruns\u001b[39m\u001b[38;5;124m\"\u001b[39m  \u001b[38;5;66;03m# avoid an infinite loop\u001b[39;00m\n",
      "File \u001b[1;32m~\\anaconda3\\Lib\\site-packages\\mlflow\\store\\tracking\\file_store.py:693\u001b[0m, in \u001b[0;36mFileStore.get_run\u001b[1;34m(self, run_id)\u001b[0m\n\u001b[0;32m    689\u001b[0m \u001b[38;5;250m\u001b[39m\u001b[38;5;124;03m\"\"\"\u001b[39;00m\n\u001b[0;32m    690\u001b[0m \u001b[38;5;124;03mNote: Will get both active and deleted runs.\u001b[39;00m\n\u001b[0;32m    691\u001b[0m \u001b[38;5;124;03m\"\"\"\u001b[39;00m\n\u001b[0;32m    692\u001b[0m _validate_run_id(run_id)\n\u001b[1;32m--> 693\u001b[0m run_info \u001b[38;5;241m=\u001b[39m \u001b[38;5;28mself\u001b[39m\u001b[38;5;241m.\u001b[39m_get_run_info(run_id)\n\u001b[0;32m    694\u001b[0m \u001b[38;5;28;01mif\u001b[39;00m run_info \u001b[38;5;129;01mis\u001b[39;00m \u001b[38;5;28;01mNone\u001b[39;00m:\n\u001b[0;32m    695\u001b[0m     \u001b[38;5;28;01mraise\u001b[39;00m MlflowException(\n\u001b[0;32m    696\u001b[0m         \u001b[38;5;124mf\u001b[39m\u001b[38;5;124m\"\u001b[39m\u001b[38;5;124mRun \u001b[39m\u001b[38;5;124m'\u001b[39m\u001b[38;5;132;01m{\u001b[39;00mrun_id\u001b[38;5;132;01m}\u001b[39;00m\u001b[38;5;124m'\u001b[39m\u001b[38;5;124m metadata is in invalid state.\u001b[39m\u001b[38;5;124m\"\u001b[39m,\n\u001b[0;32m    697\u001b[0m         databricks_pb2\u001b[38;5;241m.\u001b[39mINVALID_STATE,\n\u001b[0;32m    698\u001b[0m     )\n",
      "File \u001b[1;32m~\\anaconda3\\Lib\\site-packages\\mlflow\\store\\tracking\\file_store.py:718\u001b[0m, in \u001b[0;36mFileStore._get_run_info\u001b[1;34m(self, run_uuid)\u001b[0m\n\u001b[0;32m    716\u001b[0m exp_id, run_dir \u001b[38;5;241m=\u001b[39m \u001b[38;5;28mself\u001b[39m\u001b[38;5;241m.\u001b[39m_find_run_root(run_uuid)\n\u001b[0;32m    717\u001b[0m \u001b[38;5;28;01mif\u001b[39;00m run_dir \u001b[38;5;129;01mis\u001b[39;00m \u001b[38;5;28;01mNone\u001b[39;00m:\n\u001b[1;32m--> 718\u001b[0m     \u001b[38;5;28;01mraise\u001b[39;00m MlflowException(\n\u001b[0;32m    719\u001b[0m         \u001b[38;5;124mf\u001b[39m\u001b[38;5;124m\"\u001b[39m\u001b[38;5;124mRun \u001b[39m\u001b[38;5;124m'\u001b[39m\u001b[38;5;132;01m{\u001b[39;00mrun_uuid\u001b[38;5;132;01m}\u001b[39;00m\u001b[38;5;124m'\u001b[39m\u001b[38;5;124m not found\u001b[39m\u001b[38;5;124m\"\u001b[39m, databricks_pb2\u001b[38;5;241m.\u001b[39mRESOURCE_DOES_NOT_EXIST\n\u001b[0;32m    720\u001b[0m     )\n\u001b[0;32m    721\u001b[0m run_info \u001b[38;5;241m=\u001b[39m \u001b[38;5;28mself\u001b[39m\u001b[38;5;241m.\u001b[39m_get_run_info_from_dir(run_dir)\n\u001b[0;32m    722\u001b[0m \u001b[38;5;28;01mif\u001b[39;00m run_info\u001b[38;5;241m.\u001b[39mexperiment_id \u001b[38;5;241m!=\u001b[39m exp_id:\n",
      "\u001b[1;31mMlflowException\u001b[0m: Run '9eb3cf7c1d44497d82b156218cee350c' not found"
     ]
    }
   ],
   "source": [
    "\n",
    "\n",
    "# Charger le modèle\n",
    "model_uri = 'runs:/9eb3cf7c1d44497d82b156218cee350c/model'  # Ajuster avec l'URI du modèle\n",
    "model = mlflow.pyfunc.load_model(model_uri)\n",
    "\n",
    "app = Flask(__name__)\n",
    "\n",
    "@app.route('/predict', methods=['POST'])\n",
    "def predict():\n",
    "    data = request.get_json()\n",
    "    predictions = model.predict(pd.DataFrame([data]))\n",
    "    return jsonify({'prediction': predictions[0]})\n",
    "\n",
    "if __name__ == '__main__':\n",
    "    app.run(debug=True)\n"
   ]
  },
  {
   "cell_type": "code",
   "execution_count": 7,
   "id": "62fd0b9b-69fa-4e21-8ae2-03009a710608",
   "metadata": {},
   "outputs": [
    {
     "ename": "NameError",
     "evalue": "name 'MLFLOW_TRACKING_URI' is not defined",
     "output_type": "error",
     "traceback": [
      "\u001b[1;31m---------------------------------------------------------------------------\u001b[0m",
      "\u001b[1;31mNameError\u001b[0m                                 Traceback (most recent call last)",
      "Cell \u001b[1;32mIn[7], line 1\u001b[0m\n\u001b[1;32m----> 1\u001b[0m \u001b[38;5;28mprint\u001b[39m(MLFLOW_TRACKING_URI)\n",
      "\u001b[1;31mNameError\u001b[0m: name 'MLFLOW_TRACKING_URI' is not defined"
     ]
    }
   ],
   "source": [
    "print(MLFLOW_TRACKING_URI)"
   ]
  },
  {
   "cell_type": "code",
   "execution_count": 5,
   "id": "69d38923-53c8-4477-83db-c61b2ff2b0a0",
   "metadata": {},
   "outputs": [
    {
     "data": {
      "text/html": [
       "<div>\n",
       "<style scoped>\n",
       "    .dataframe tbody tr th:only-of-type {\n",
       "        vertical-align: middle;\n",
       "    }\n",
       "\n",
       "    .dataframe tbody tr th {\n",
       "        vertical-align: top;\n",
       "    }\n",
       "\n",
       "    .dataframe thead th {\n",
       "        text-align: right;\n",
       "    }\n",
       "</style>\n",
       "<table border=\"1\" class=\"dataframe\">\n",
       "  <thead>\n",
       "    <tr style=\"text-align: right;\">\n",
       "      <th></th>\n",
       "      <th>run_id</th>\n",
       "      <th>experiment_id</th>\n",
       "      <th>status</th>\n",
       "      <th>artifact_uri</th>\n",
       "      <th>start_time</th>\n",
       "      <th>end_time</th>\n",
       "      <th>tags.mlflow.runName</th>\n",
       "      <th>tags.mlflow.source.name</th>\n",
       "      <th>tags.mlflow.source.type</th>\n",
       "      <th>tags.mlflow.user</th>\n",
       "    </tr>\n",
       "  </thead>\n",
       "  <tbody>\n",
       "    <tr>\n",
       "      <th>0</th>\n",
       "      <td>7f15cf80209847d592bcbb039de24677</td>\n",
       "      <td>0</td>\n",
       "      <td>RUNNING</td>\n",
       "      <td>file:///C:/Users/SOUKA/anaconda3/envs/projet7_...</td>\n",
       "      <td>2024-10-28 22:53:49.193000+00:00</td>\n",
       "      <td>NaT</td>\n",
       "      <td>bedecked-bee-352</td>\n",
       "      <td>C:\\Users\\SOUKA\\anaconda3\\Lib\\site-packages\\ipy...</td>\n",
       "      <td>LOCAL</td>\n",
       "      <td>SOUKA</td>\n",
       "    </tr>\n",
       "    <tr>\n",
       "      <th>1</th>\n",
       "      <td>ecaabee5f07a4bd193fd889723f164fa</td>\n",
       "      <td>0</td>\n",
       "      <td>RUNNING</td>\n",
       "      <td>file:///C:/Users/SOUKA/anaconda3/envs/projet7_...</td>\n",
       "      <td>2024-10-28 13:20:48.395000+00:00</td>\n",
       "      <td>NaT</td>\n",
       "      <td>selective-whale-532</td>\n",
       "      <td>C:\\Users\\SOUKA\\anaconda3\\Lib\\site-packages\\ipy...</td>\n",
       "      <td>LOCAL</td>\n",
       "      <td>SOUKA</td>\n",
       "    </tr>\n",
       "    <tr>\n",
       "      <th>2</th>\n",
       "      <td>a7f41917f0d94a538c8f536052a023e7</td>\n",
       "      <td>0</td>\n",
       "      <td>RUNNING</td>\n",
       "      <td>file:///C:/Users/SOUKA/anaconda3/envs/projet7_...</td>\n",
       "      <td>2024-10-28 13:20:27.013000+00:00</td>\n",
       "      <td>NaT</td>\n",
       "      <td>honorable-sow-703</td>\n",
       "      <td>C:\\Users\\SOUKA\\anaconda3\\Lib\\site-packages\\ipy...</td>\n",
       "      <td>LOCAL</td>\n",
       "      <td>SOUKA</td>\n",
       "    </tr>\n",
       "    <tr>\n",
       "      <th>3</th>\n",
       "      <td>27983064ebb74ae79897875c3ba268ca</td>\n",
       "      <td>0</td>\n",
       "      <td>FAILED</td>\n",
       "      <td>file:///C:/Users/SOUKA/anaconda3/envs/projet7_...</td>\n",
       "      <td>2024-10-13 14:07:10.098000+00:00</td>\n",
       "      <td>2024-10-13 14:07:10.144000+00:00</td>\n",
       "      <td>clumsy-yak-871</td>\n",
       "      <td>C:\\Users\\SOUKA\\anaconda3\\Lib\\site-packages\\ipy...</td>\n",
       "      <td>LOCAL</td>\n",
       "      <td>SOUKA</td>\n",
       "    </tr>\n",
       "  </tbody>\n",
       "</table>\n",
       "</div>"
      ],
      "text/plain": [
       "                             run_id experiment_id   status  \\\n",
       "0  7f15cf80209847d592bcbb039de24677             0  RUNNING   \n",
       "1  ecaabee5f07a4bd193fd889723f164fa             0  RUNNING   \n",
       "2  a7f41917f0d94a538c8f536052a023e7             0  RUNNING   \n",
       "3  27983064ebb74ae79897875c3ba268ca             0   FAILED   \n",
       "\n",
       "                                        artifact_uri  \\\n",
       "0  file:///C:/Users/SOUKA/anaconda3/envs/projet7_...   \n",
       "1  file:///C:/Users/SOUKA/anaconda3/envs/projet7_...   \n",
       "2  file:///C:/Users/SOUKA/anaconda3/envs/projet7_...   \n",
       "3  file:///C:/Users/SOUKA/anaconda3/envs/projet7_...   \n",
       "\n",
       "                        start_time                         end_time  \\\n",
       "0 2024-10-28 22:53:49.193000+00:00                              NaT   \n",
       "1 2024-10-28 13:20:48.395000+00:00                              NaT   \n",
       "2 2024-10-28 13:20:27.013000+00:00                              NaT   \n",
       "3 2024-10-13 14:07:10.098000+00:00 2024-10-13 14:07:10.144000+00:00   \n",
       "\n",
       "   tags.mlflow.runName                            tags.mlflow.source.name  \\\n",
       "0     bedecked-bee-352  C:\\Users\\SOUKA\\anaconda3\\Lib\\site-packages\\ipy...   \n",
       "1  selective-whale-532  C:\\Users\\SOUKA\\anaconda3\\Lib\\site-packages\\ipy...   \n",
       "2    honorable-sow-703  C:\\Users\\SOUKA\\anaconda3\\Lib\\site-packages\\ipy...   \n",
       "3       clumsy-yak-871  C:\\Users\\SOUKA\\anaconda3\\Lib\\site-packages\\ipy...   \n",
       "\n",
       "  tags.mlflow.source.type tags.mlflow.user  \n",
       "0                   LOCAL            SOUKA  \n",
       "1                   LOCAL            SOUKA  \n",
       "2                   LOCAL            SOUKA  \n",
       "3                   LOCAL            SOUKA  "
      ]
     },
     "execution_count": 5,
     "metadata": {},
     "output_type": "execute_result"
    }
   ],
   "source": [
    "mlflow.search_runs()"
   ]
  },
  {
   "cell_type": "code",
   "execution_count": 7,
   "id": "62e8605f-e3c9-4434-9f38-038e87bdd93e",
   "metadata": {},
   "outputs": [
    {
     "data": {
      "text/plain": [
       "'file:///C:/Users/SOUKA/anaconda3/envs/projet7_IMS/mlruns/0/f4176cd1cf21468fbbde065ff836b8f2/artifacts'"
      ]
     },
     "execution_count": 7,
     "metadata": {},
     "output_type": "execute_result"
    }
   ],
   "source": [
    "mlflow.get_artifact_uri()"
   ]
  },
  {
   "cell_type": "code",
   "execution_count": null,
   "id": "d6854332-69cc-4e54-994a-cb71f0ae122f",
   "metadata": {},
   "outputs": [],
   "source": []
  }
 ],
 "metadata": {
  "kernelspec": {
   "display_name": "Python 3 (ipykernel)",
   "language": "python",
   "name": "python3"
  },
  "language_info": {
   "codemirror_mode": {
    "name": "ipython",
    "version": 3
   },
   "file_extension": ".py",
   "mimetype": "text/x-python",
   "name": "python",
   "nbconvert_exporter": "python",
   "pygments_lexer": "ipython3",
   "version": "3.11.7"
  }
 },
 "nbformat": 4,
 "nbformat_minor": 5
}
